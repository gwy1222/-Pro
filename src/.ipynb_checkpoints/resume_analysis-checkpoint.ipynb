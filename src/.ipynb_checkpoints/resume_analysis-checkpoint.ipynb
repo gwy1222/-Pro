{
 "cells": [
  {
   "cell_type": "code",
   "execution_count": null,
   "id": "8675dc80-7faf-4b2f-94f5-07f0b89d7898",
   "metadata": {},
   "outputs": [],
   "source": [
    "import requests\n",
    "import zipfile\n",
    "\n",
    "# 下载开源简历样本\n",
    "url = \"https://github.com/posquit0/Awesome-CV/archive/refs/heads/master.zip\"\n",
    "r = requests.get(url)\n",
    "with open(\"../data/sample_resumes.zip\", \"wb\") as f:\n",
    "    f.write(r.content)\n",
    "\n",
    "# 解压文件\n",
    "with zipfile.ZipFile(\"../data/sample_resumes.zip\", 'r') as zip_ref:\n",
    "    zip_ref.extractall(\"../data/sample_resumes/\")"
   ]
  }
 ],
 "metadata": {
  "kernelspec": {
   "display_name": "Python 3 (ipykernel)",
   "language": "python",
   "name": "python3"
  },
  "language_info": {
   "codemirror_mode": {
    "name": "ipython",
    "version": 3
   },
   "file_extension": ".py",
   "mimetype": "text/x-python",
   "name": "python",
   "nbconvert_exporter": "python",
   "pygments_lexer": "ipython3",
   "version": "3.12.3"
  }
 },
 "nbformat": 4,
 "nbformat_minor": 5
}
